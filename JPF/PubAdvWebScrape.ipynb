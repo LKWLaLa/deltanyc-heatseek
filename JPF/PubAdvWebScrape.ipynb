{
 "cells": [
  {
   "cell_type": "code",
   "execution_count": 6,
   "metadata": {
    "ExecuteTime": {
     "end_time": "2016-11-26T22:56:25.761473",
     "start_time": "2016-11-26T22:56:21.220173"
    },
    "collapsed": false
   },
   "outputs": [],
   "source": [
    "import pandas as pd\n",
    "import requests\n",
    "import bs4\n",
    "from bs4 import BeautifulSoup\n",
    "from selenium.webdriver.common.desired_capabilities import DesiredCapabilities\n",
    "from selenium import webdriver\n",
    "import datetime\n",
    "import urllib\n",
    "import os\n",
    "import mysql.connector\n",
    "from sqlalchemy import create_engine\n",
    "\n",
    "user = os.environ['MYSQL_USER']\n",
    "host = os.environ['MYSQL_HOST']\n",
    "pw = os.environ['MYSQL_PASSWORD']\n",
    "db = os.environ['MYSQL_DATABASE']\n",
    "\n",
    "user = 'root'\n",
    "host = 'localhost'\n",
    "pw = ''\n",
    "db = 'heatseek'\n",
    "\n",
    "conn_str = \"mysql+mysqlconnector://{0}:{1}@{2}/{3}\".format(user, pw, host, db)\n",
    "engine = create_engine(conn_str, echo=False)\n",
    "PHANTOM_PATH = '/Applications/anaconda/anaconda/bin/phantomJS' ## bash% which phantomJS\n",
    "\n",
    "dcap = dict(DesiredCapabilities.PHANTOMJS)\n",
    "dcap[\"phantomjs.page.settings.userAgent\"] = (\"Mozilla/5.0 (Macintosh; Intel Mac OS X 10_12_0) AppleWebKit/537.36 (KHTML, like Gecko) Chrome/53.0.2785.143 Safari/537.36\")\n",
    "driver = webdriver.PhantomJS(executable_path=PHANTOM_PATH, desired_capabilities=dcap)\n",
    "driver.set_window_size(1024, 768) \n",
    "driver.get('http://landlordwatchlist.com/search.html')\n",
    "\n",
    "soup = BeautifulSoup(driver.page_source, \"lxml\")\n",
    "\n",
    "result_dict = []\n",
    "for i in soup.findAll(\"li\"):\n",
    "    try: \n",
    "        j,k = i.find(\"a\", {\"class\":\"js--is-toggleable-item\"}).text.split(\"  Landlord: \")\n",
    "        address = j[18:-6]\n",
    "        landlord = k.split(\"Landlord Rank: \")[0]\n",
    "    except: \n",
    "        address = '' \n",
    "        landlord = ''\n",
    "    try: hpd_violations = i.find(\"div\").text[26:].split(\"N\")[0]\n",
    "    except: hpd_violations = ''\n",
    "    try: dob_violations = i.find(\"div\").text[26:].split(\"N\")[1][24:]\n",
    "    except: dob_violations = ''\n",
    "    result_dict.append([address,landlord,hpd_violations,dob_violations])\n",
    "\n",
    "df = pd.DataFrame(result_dict, columns=['ADDR','LANDLORD','COUNT_HPD_VIO','COUNT_DOB_VIO'])\n",
    "df = df[df['COUNT_HPD_VIO'] != '']\n",
    "df['COUNT_HPD_VIO'] = df['COUNT_HPD_VIO'].astype(int)\n",
    "df['COUNT_DOB_VIO'] = df['COUNT_DOB_VIO'].astype(int)\n",
    "\n",
    "\n",
    "df.to_sql(name='pubadv_worst_landlords', con=engine, if_exists = 'replace', index=False, chunksize=2500)"
   ]
  }
 ],
 "metadata": {
  "anaconda-cloud": {},
  "kernelspec": {
   "display_name": "Python [default]",
   "language": "python",
   "name": "python2"
  },
  "language_info": {
   "codemirror_mode": {
    "name": "ipython",
    "version": 2
   },
   "file_extension": ".py",
   "mimetype": "text/x-python",
   "name": "python",
   "nbconvert_exporter": "python",
   "pygments_lexer": "ipython2",
   "version": "2.7.12"
  },
  "nav_menu": {},
  "toc": {
   "navigate_menu": true,
   "number_sections": true,
   "sideBar": true,
   "threshold": 6,
   "toc_cell": false,
   "toc_section_display": "block",
   "toc_window_display": false
  }
 },
 "nbformat": 4,
 "nbformat_minor": 1
}
