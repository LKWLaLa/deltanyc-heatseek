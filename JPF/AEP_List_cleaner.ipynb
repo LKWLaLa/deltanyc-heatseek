{
 "cells": [
  {
   "cell_type": "code",
   "execution_count": 96,
   "metadata": {
    "ExecuteTime": {
     "end_time": "2016-12-04T21:52:51.037017",
     "start_time": "2016-12-04T21:52:50.950209"
    },
    "collapsed": false
   },
   "outputs": [],
   "source": [
    "\n",
    "import pandas as pd\n",
    "\n",
    "df = pd.read_csv('/Users/jfreeley/HeatSeek/HPD/AEP_LIST_08-16.csv')\n",
    "\n",
    "address = [x.split()[:-3][1:] for x in df.DATA.values]\n",
    "#def gt_address(x):\n",
    "joined_address = [' '.join(i) for i in address]\n",
    "ja = pd.DataFrame(joined_address)\n",
    "\n",
    "boro = [x.split()[:-3][0] for x in df.DATA.values]\n",
    "#def gt_address(x):\n",
    "b = pd.DataFrame(boro)\n",
    "\n",
    "units = [x.split()[-1] for x in df.DATA.values]\n",
    "#def gt_address(x):\n",
    "u = pd.DataFrame(units)\n",
    "\n",
    "df_c = pd.concat([df,ja, b, u], axis=1)\n",
    "df_c.columns = ['year', 'data', 'address', 'boro', 'units']\n",
    "\n",
    "df_c['borough'] = 'UNKN'\n",
    "df_c.loc[df_c['boro'] == 'QNS', 'borough'] = 'Queens'\n",
    "df_c.loc[df_c['boro'] == 'BK', 'borough'] = 'Brooklyn'\n",
    "df_c.loc[df_c['boro'] == 'BX', 'borough'] = 'Bronx'\n",
    "df_c.loc[df_c['boro'] == 'SI', 'borough'] = 'Staten Island'\n",
    "df_c.loc[df_c['boro'] == 'MN', 'borough'] = 'Manhattan'\n",
    "df_c['full_addr'] = df_c['address'] + ' ' + df_c['borough']\n",
    "cols_to_keep =  ['year','full_addr', 'borough', 'units']\n",
    "df = df_c[cols_to_keep]\n",
    "\n",
    "df.to_csv('/Users/jfreeley/HeatSeek/HPD/AEP_LIST.csv')\n"
   ]
  },
  {
   "cell_type": "code",
   "execution_count": 89,
   "metadata": {
    "ExecuteTime": {
     "end_time": "2016-12-04T21:29:17.087300",
     "start_time": "2016-12-04T21:29:17.075740"
    },
    "collapsed": false
   },
   "outputs": [
    {
     "data": {
      "text/plain": [
       "year          int64\n",
       "full_addr    object\n",
       "borough      object\n",
       "units        object\n",
       "dtype: object"
      ]
     },
     "execution_count": 89,
     "metadata": {},
     "output_type": "execute_result"
    }
   ],
   "source": [
    "df.dtypes"
   ]
  },
  {
   "cell_type": "code",
   "execution_count": 81,
   "metadata": {
    "ExecuteTime": {
     "end_time": "2016-12-04T20:00:55.435209",
     "start_time": "2016-12-04T20:00:55.424600"
    },
    "collapsed": false
   },
   "outputs": [
    {
     "data": {
      "text/plain": [
       "year        int64\n",
       "address    object\n",
       "boro       object\n",
       "units      object\n",
       "dtype: object"
      ]
     },
     "execution_count": 81,
     "metadata": {},
     "output_type": "execute_result"
    }
   ],
   "source": [
    "df.dtypes"
   ]
  }
 ],
 "metadata": {
  "kernelspec": {
   "display_name": "Python [default]",
   "language": "python",
   "name": "python2"
  },
  "language_info": {
   "codemirror_mode": {
    "name": "ipython",
    "version": 2
   },
   "file_extension": ".py",
   "mimetype": "text/x-python",
   "name": "python",
   "nbconvert_exporter": "python",
   "pygments_lexer": "ipython2",
   "version": "2.7.12"
  },
  "nav_menu": {},
  "toc": {
   "navigate_menu": true,
   "number_sections": true,
   "sideBar": true,
   "threshold": 6,
   "toc_cell": false,
   "toc_section_display": "block",
   "toc_window_display": false
  }
 },
 "nbformat": 4,
 "nbformat_minor": 1
}
